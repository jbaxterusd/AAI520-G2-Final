{
 "cells": [
  {
   "cell_type": "code",
   "execution_count": 38,
   "metadata": {},
   "outputs": [],
   "source": [
    "#Final Project Script  \n",
    "#Agentic AI for financial analysis \n",
    "#MODEL/CODE INSPO: https://python.langchain.com/docs/tutorials/agents/"
   ]
  },
  {
   "cell_type": "code",
   "execution_count": null,
   "metadata": {},
   "outputs": [],
   "source": [
    "%pip install -U langgraph langchain-tavily langgraph-checkpoint-sqlite\n",
    "%pip install -qU langchain-xai\n",
    "%pip install yfinance\n",
    "%pip install langchain-xai"
   ]
  },
  {
   "cell_type": "code",
   "execution_count": 51,
   "metadata": {},
   "outputs": [],
   "source": [
    "#import packages\n",
    "from langgraph.checkpoint.memory import MemorySaver\n",
    "from langchain.chat_models import init_chat_model\n",
    "from langgraph.prebuilt import create_react_agent\n",
    "from langchain_core.messages import SystemMessage\n",
    "from langchain_tavily import TavilySearch\n",
    "from datetime import datetime, timedelta \n",
    "import yfinance as yf\n",
    "import pandas as pd\n",
    "import numpy as np\n",
    "import getpass\n",
    "import os"
   ]
  },
  {
   "cell_type": "code",
   "execution_count": 54,
   "metadata": {},
   "outputs": [],
   "source": [
    "#For all API keys feel free to slack me! \n",
    "#If I post them here GitHub auto-revokes them due to privacy concerns :/ "
   ]
  },
  {
   "cell_type": "code",
   "execution_count": 24,
   "metadata": {},
   "outputs": [],
   "source": [
    "os.environ['LANGSMITH_TRACING'] = 'true'\n",
    "os.environ['LANGSMITH_API_KEY'] = getpass.getpass()\n",
    "os.environ['TAVILY_API_KEY'] = getpass.getpass()\n",
    "os.environ['XAI_API_KEY'] = getpass.getpass('Enter API key for xAI: ')"
   ]
  },
  {
   "cell_type": "code",
   "execution_count": null,
   "metadata": {},
   "outputs": [],
   "source": [
    "#create all necessary tools for agent below: "
   ]
  },
  {
   "cell_type": "code",
   "execution_count": 53,
   "metadata": {},
   "outputs": [],
   "source": [
    "#create Tavily search tool\n",
    "search = TavilySearch(max_results=2)"
   ]
  },
  {
   "cell_type": "code",
   "execution_count": null,
   "metadata": {},
   "outputs": [],
   "source": []
  },
  {
   "cell_type": "code",
   "execution_count": 40,
   "metadata": {},
   "outputs": [],
   "source": [
    "#define tools\n",
    "tools = [search]"
   ]
  },
  {
   "cell_type": "code",
   "execution_count": 41,
   "metadata": {},
   "outputs": [],
   "source": [
    "#define agent model for xai llm integration\n",
    "model = init_chat_model('grok-2',model_provider='xai')"
   ]
  },
  {
   "cell_type": "code",
   "execution_count": 42,
   "metadata": {},
   "outputs": [],
   "source": [
    "#create memory\n",
    "memory = MemorySaver()"
   ]
  },
  {
   "cell_type": "code",
   "execution_count": 47,
   "metadata": {},
   "outputs": [],
   "source": [
    "#create a prompt for the agent role in our project \n",
    "agentrole = SystemMessage(content='You are an expert financial analysis agent. Always start by asking for a stock symbol if none is given by the user. Once a symbol is given, list the company represented by the stock and ask for confirmation before proceeding.')"
   ]
  },
  {
   "cell_type": "code",
   "execution_count": 48,
   "metadata": {},
   "outputs": [],
   "source": [
    "#create the agent \n",
    "financeanalyst = create_react_agent(model,tools,prompt=agentrole,checkpointer=memory)\n",
    "config = {'configurable': {'thread_id': 'testingproj1'}}"
   ]
  },
  {
   "cell_type": "code",
   "execution_count": 50,
   "metadata": {},
   "outputs": [
    {
     "name": "stdout",
     "output_type": "stream",
     "text": [
      "================================\u001b[1m Human Message \u001b[0m=================================\n",
      "\n",
      "Jack\n",
      "==================================\u001b[1m Ai Message \u001b[0m==================================\n",
      "\n",
      "Hello Jack! To proceed with the financial analysis of CLPT (ClearPoint Neuro, Inc.), please confirm if this is the correct company. If you have another company in mind, please provide the stock symbol or the company name.\n",
      "================================\u001b[1m Human Message \u001b[0m=================================\n",
      "\n",
      "CLPT\n",
      "==================================\u001b[1m Ai Message \u001b[0m==================================\n",
      "\n",
      "The stock symbol CLPT represents ClearPoint Neuro, Inc. Is this the company you would like to analyze?\n",
      "================================\u001b[1m Human Message \u001b[0m=================================\n",
      "\n",
      "YES\n",
      "==================================\u001b[1m Ai Message \u001b[0m==================================\n",
      "\n",
      "I am retrieving the latest financial data for ClearPoint Neuro, Inc. (CLPT).\n",
      "Tool Calls:\n",
      "  tavily_search (call_92252751)\n",
      " Call ID: call_92252751\n",
      "  Args:\n",
      "    query: ClearPoint Neuro, Inc. financial performance\n",
      "    topic: finance\n",
      "=================================\u001b[1m Tool Message \u001b[0m=================================\n",
      "Name: tavily_search\n",
      "\n",
      "{\"query\": \"ClearPoint Neuro, Inc. financial performance\", \"follow_up_questions\": null, \"answer\": null, \"images\": [], \"results\": [{\"url\": \"https://finance.yahoo.com/news/clearpoint-neuro-reports-first-quarter-204000224.html\", \"title\": \"ClearPoint Neuro Reports First Quarter 2025 Results\", \"content\": \"Total revenue was $8.5 million and $7.6 million for the three months ended March 31, 2025 and 2024, respectively, representing an increase of 11\", \"score\": 0.829285, \"raw_content\": null}, {\"url\": \"https://finance.yahoo.com/news/clearpoint-neuro-first-quarter-2025-110036645.html\", \"title\": \"ClearPoint Neuro First Quarter 2025 Earnings\", \"content\": \"ClearPoint Neuro (NASDAQ:CLPT) First Quarter 2025 Results. Key Financial Results. Revenue: US$8.49m (up 11% from 1Q 2024).\", \"score\": 0.8106142, \"raw_content\": null}], \"response_time\": 0.82, \"request_id\": \"2c449506-4a06-4b74-8db3-33c3c4834d4c\"}\n",
      "==================================\u001b[1m Ai Message \u001b[0m==================================\n",
      "\n",
      "The financial performance for ClearPoint Neuro, Inc. (CLPT) shows a total revenue of $8.5 million for the first quarter of 2025, which is an 11% increase from the first quarter of 2024. Would you like to know more details or have any other questions regarding CLPT or another company?\n"
     ]
    }
   ],
   "source": [
    "#start agent comms \n",
    "intro = input('Enter your name to activate the finance agent: ')\n",
    "for step in financeanalyst.stream(\n",
    "    {\"messages\": [('user', intro)]}, config, stream_mode='values'\n",
    "):\n",
    "    step['messages'][-1].pretty_print()\n",
    "stocksymbol = input('Enter symbol here: $')\n",
    "for step in financeanalyst.stream(\n",
    "    {\"messages\": [('user', stocksymbol)]}, config, stream_mode='values'\n",
    "):\n",
    "    step['messages'][-1].pretty_print()\n",
    "confirmation = input('Enter YES if yes, Enter NO if no: ')\n",
    "for step in financeanalyst.stream(\n",
    "    {\"messages\": [('user', confirmation)]}, config, stream_mode='values'\n",
    "):\n",
    "    step['messages'][-1].pretty_print()"
   ]
  }
 ],
 "metadata": {
  "kernelspec": {
   "display_name": "final",
   "language": "python",
   "name": "python3"
  },
  "language_info": {
   "codemirror_mode": {
    "name": "ipython",
    "version": 3
   },
   "file_extension": ".py",
   "mimetype": "text/x-python",
   "name": "python",
   "nbconvert_exporter": "python",
   "pygments_lexer": "ipython3",
   "version": "3.13.7"
  },
  "orig_nbformat": 4,
  "vscode": {
   "interpreter": {
    "hash": "41358527d2f98e4cda843638694b690dd860ad47c9b0abc81c6dd2c00e6d110e"
   }
  }
 },
 "nbformat": 4,
 "nbformat_minor": 2
}
