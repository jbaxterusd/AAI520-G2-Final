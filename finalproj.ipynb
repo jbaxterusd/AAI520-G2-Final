{
 "cells": [
  {
   "cell_type": "code",
   "execution_count": null,
   "metadata": {},
   "outputs": [],
   "source": [
    "#Final Project Script  \n",
    "#Agentic AI for news sentiment analysis and stock investment\n",
    "#MODEL/CODE INSPO: https://python.langchain.com/docs/tutorials/agents/"
   ]
  },
  {
   "cell_type": "code",
   "execution_count": null,
   "metadata": {},
   "outputs": [],
   "source": [
    "%pip install -U langgraph langchain-tavily langgraph-checkpoint-sqlite\n",
    "pip install -U langgraph \"langchain[openai]\"\n",
    "pip install -qU \"langchain-xai\"\n",
    "pip install yfinance"
   ]
  },
  {
   "cell_type": "code",
   "execution_count": 38,
   "metadata": {},
   "outputs": [],
   "source": [
    "#import packages\n",
    "import pandas as pd\n",
    "import numpy as np\n",
    "from langchain_tavily import TavilySearch\n",
    "from langchain.chat_models import init_chat_model\n",
    "from langgraph.prebuilt import create_react_agent\n",
    "import yfinance as yf\n",
    "from langgraph.checkpoint.memory import MemorySaver\n",
    "import getpass\n",
    "import os\n",
    "import json"
   ]
  },
  {
   "cell_type": "code",
   "execution_count": 28,
   "metadata": {},
   "outputs": [],
   "source": [
    "#define finance function for agent\n",
    "def yahoofinance(ticker: str) -> str:\n",
    "    try:\n",
    "        stock = yf.Ticker(ticker)\n",
    "        info = stock.info\n",
    "        return (\n",
    "            f\"Stock: {info.get('longName', 'N/A')} ({ticker})\\n\"\n",
    "            f\"Current Price: ${info.get('currentPrice', 'N/A')}\\n\"\n",
    "            f\"Market Cap: ${info.get('marketCap', 'N/A'):,}\\n\"\n",
    "            f\"52-Week High: ${info.get('fiftyTwoWeekHigh', 'N/A')}\\n\"\n",
    "            f\"52-Week Low: ${info.get('fiftyTwoWeekLow', 'N/A')}\\n\"\n",
    "            f\"P/E Ratio: {info.get('trailingPE', 'N/A')}\"\n",
    "        )\n",
    "    except Exception as e:\n",
    "        return f\"Error fetching data for {ticker}: {str(e)}\""
   ]
  },
  {
   "cell_type": "code",
   "execution_count": null,
   "metadata": {},
   "outputs": [],
   "source": [
    "# LANGSMITH API KEY: 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\n",
    "# TAVILY API KEY: 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\n",
    "# xAI API KEY: xai-yBadpNpX5cM417CcncvNiR2Kus6l499vHkqRxuWL013o4R3yey7NLclyFpDnXBbHg1ARv7dVWMCByuhG"
   ]
  },
  {
   "cell_type": "code",
   "execution_count": 30,
   "metadata": {},
   "outputs": [],
   "source": [
    "os.environ[\"LANGSMITH_TRACING\"] = \"true\"\n",
    "os.environ[\"LANGSMITH_API_KEY\"] = getpass.getpass()\n",
    "os.environ[\"TAVILY_API_KEY\"] = getpass.getpass()\n",
    "if not os.environ.get(\"XAI_API_KEY\"):\n",
    "  os.environ[\"XAI_API_KEY\"] = getpass.getpass(\"Enter API key for xAI: \")"
   ]
  },
  {
   "cell_type": "code",
   "execution_count": null,
   "metadata": {},
   "outputs": [],
   "source": [
    "#create Tavily search tool\n",
    "search = TavilySearch(max_results=2)"
   ]
  },
  {
   "cell_type": "code",
   "execution_count": null,
   "metadata": {},
   "outputs": [],
   "source": [
    "#define tools\n",
    "tools = [search, yahoofinance]"
   ]
  },
  {
   "cell_type": "code",
   "execution_count": 49,
   "metadata": {},
   "outputs": [
    {
     "name": "stdout",
     "output_type": "stream",
     "text": [
      "Stock: Apple Inc. (AAPL)\n",
      "Current Price: $255.46\n",
      "Market Cap: $3,791,126,003,712\n",
      "52-Week High: $260.1\n",
      "52-Week Low: $169.21\n",
      "P/E Ratio: 38.764793\n",
      "Weather in San Francisco in September 2025\n",
      "* Weather * Weather in San Francisco # Weather in San Francisco in September 2025 * +70° +70° +63° +70° +63° +72° +63° +72° +64° +73° +63° +73° +63° \n"
     ]
    }
   ],
   "source": [
    "#test tools\n",
    "yahoo_finance_results = yahoofinance(\"AAPL\")\n",
    "print(yahoo_finance_results)\n",
    "\n",
    "search_results = search.invoke(\"What is the weather in SF\")\n",
    "results = search_results['results']\n",
    "info = results[1]\n",
    "print(info.get('title'))\n",
    "SF = info.get('content')\n",
    "print(SF[0:149])\n",
    "\n",
    "\n"
   ]
  },
  {
   "cell_type": "code",
   "execution_count": null,
   "metadata": {},
   "outputs": [],
   "source": [
    "#integrate chatbot \n",
    "model = init_chat_model(\"grok-2\", model_provider=\"xai\")"
   ]
  },
  {
   "cell_type": "code",
   "execution_count": 17,
   "metadata": {},
   "outputs": [],
   "source": [
    "#test chat bot\n",
    "query = \"Hi!\"\n",
    "response = model.invoke([{\"role\": \"user\", \"content\": query}])\n",
    "response.text()"
   ]
  },
  {
   "cell_type": "code",
   "execution_count": null,
   "metadata": {},
   "outputs": [],
   "source": [
    "#add tools\n",
    "model_with_tools = model.bind_tools(tools)"
   ]
  },
  {
   "cell_type": "code",
   "execution_count": null,
   "metadata": {},
   "outputs": [],
   "source": [
    "query = \"Search for the weather in SF\"\n",
    "response = model_with_tools.invoke([{\"role\": \"user\", \"content\": query}])\n",
    "\n",
    "print(f\"Message content: {response.text()}\\n\")\n",
    "print(f\"Tool calls: {response.tool_calls}\")"
   ]
  },
  {
   "cell_type": "code",
   "execution_count": null,
   "metadata": {},
   "outputs": [],
   "source": [
    "memory = MemorySaver()"
   ]
  },
  {
   "cell_type": "code",
   "execution_count": 20,
   "metadata": {},
   "outputs": [],
   "source": [
    "agent_executor = create_react_agent(model, tools)\n",
    "model_with_tools = model.bind_tools(tools)\n",
    "agent_executor = create_react_agent(model, tools)"
   ]
  }
 ],
 "metadata": {
  "kernelspec": {
   "display_name": "final",
   "language": "python",
   "name": "python3"
  },
  "language_info": {
   "codemirror_mode": {
    "name": "ipython",
    "version": 3
   },
   "file_extension": ".py",
   "mimetype": "text/x-python",
   "name": "python",
   "nbconvert_exporter": "python",
   "pygments_lexer": "ipython3",
   "version": "3.13.7"
  },
  "orig_nbformat": 4,
  "vscode": {
   "interpreter": {
    "hash": "41358527d2f98e4cda843638694b690dd860ad47c9b0abc81c6dd2c00e6d110e"
   }
  }
 },
 "nbformat": 4,
 "nbformat_minor": 2
}
